{
 "cells": [
  {
   "cell_type": "markdown",
   "metadata": {},
   "source": [
    "## create model "
   ]
  },
  {
   "cell_type": "code",
   "execution_count": 1,
   "metadata": {
    "collapsed": true
   },
   "outputs": [],
   "source": [
    "%load_ext autoreload\n",
    "%autoreload 2\n",
    "%matplotlib inline"
   ]
  },
  {
   "cell_type": "code",
   "execution_count": 2,
   "metadata": {
    "collapsed": false
   },
   "outputs": [
    {
     "name": "stderr",
     "output_type": "stream",
     "text": [
      "Using TensorFlow backend.\n"
     ]
    }
   ],
   "source": [
    "import tensorflow as tf\n",
    "import keras.backend as K\n",
    "config = tf.ConfigProto()\n",
    "config.gpu_options.allow_growth = True\n",
    "config.allow_soft_placement=True\n",
    "session = tf.Session(config=config)\n",
    "K.set_session(session)"
   ]
  },
  {
   "cell_type": "code",
   "execution_count": 3,
   "metadata": {
    "collapsed": false
   },
   "outputs": [],
   "source": [
    "# from tensorflow.python import debug as tf_debug\n",
    "# K.set_session(\n",
    "#     tf_debug.TensorBoardDebugWrapperSession(tf.Session(), \"DESKTOP-NAQHFD5:6006\"))"
   ]
  },
  {
   "cell_type": "code",
   "execution_count": 4,
   "metadata": {
    "collapsed": false
   },
   "outputs": [],
   "source": [
    "from model.yolov3 import YOLO_V3\n",
    "import config "
   ]
  },
  {
   "cell_type": "code",
   "execution_count": 5,
   "metadata": {
    "collapsed": false
   },
   "outputs": [
    {
     "name": "stdout",
     "output_type": "stream",
     "text": [
      "feats_shape: (None, None, None, 3, 10) y_true_shape: (None, None, None, 3, 14)\n",
      "gt_t_xy_shape: (None, None, None, 3, 2) pred_t_wh_shape: (None, None, None, 3, 2)\n",
      "gt_box_shape: (None, None, None, 3, 4) pred_box_shape: (None, None, None, 3, 1, 4) object_mask_shape: (None, None, None, 3, 1)\n",
      "s_iou: (None, None, 3, None) s_best_iou (None, None, 3) s_gt_box_shape (None, 4)\n",
      "ignore_mask_shape: (None, None, None, 3, 1) object_mask_shape (None, None, None, 3, 1)\n",
      "loss_xy_shape: (None, None, None, 3, 2)\n",
      "feats_shape: (None, None, None, 3, 10) y_true_shape: (None, None, None, 3, 14)\n",
      "gt_t_xy_shape: (None, None, None, 3, 2) pred_t_wh_shape: (None, None, None, 3, 2)\n",
      "gt_box_shape: (None, None, None, 3, 4) pred_box_shape: (None, None, None, 3, 1, 4) object_mask_shape: (None, None, None, 3, 1)\n",
      "s_iou: (None, None, 3, None) s_best_iou (None, None, 3) s_gt_box_shape (None, 4)\n",
      "ignore_mask_shape: (None, None, None, 3, 1) object_mask_shape (None, None, None, 3, 1)\n",
      "loss_xy_shape: (None, None, None, 3, 2)\n",
      "feats_shape: (None, None, None, 3, 10) y_true_shape: (None, None, None, 3, 14)\n",
      "gt_t_xy_shape: (None, None, None, 3, 2) pred_t_wh_shape: (None, None, None, 3, 2)\n",
      "gt_box_shape: (None, None, None, 3, 4) pred_box_shape: (None, None, None, 3, 1, 4) object_mask_shape: (None, None, None, 3, 1)\n",
      "s_iou: (None, None, 3, None) s_best_iou (None, None, 3) s_gt_box_shape (None, 4)\n",
      "ignore_mask_shape: (None, None, None, 3, 1) object_mask_shape (None, None, None, 3, 1)\n",
      "loss_xy_shape: (None, None, None, 3, 2)\n"
     ]
    },
    {
     "name": "stderr",
     "output_type": "stream",
     "text": [
      "C:\\Program Files\\Anaconda3\\lib\\site-packages\\keras\\engine\\saving.py:1140: UserWarning: Skipping loading of weights for layer conv2d_59 due to mismatch in shape ((1, 1, 1024, 30) vs (255, 1024, 1, 1)).\n",
      "  weight_values[i].shape))\n",
      "C:\\Program Files\\Anaconda3\\lib\\site-packages\\keras\\engine\\saving.py:1140: UserWarning: Skipping loading of weights for layer conv2d_59 due to mismatch in shape ((30,) vs (255,)).\n",
      "  weight_values[i].shape))\n",
      "C:\\Program Files\\Anaconda3\\lib\\site-packages\\keras\\engine\\saving.py:1140: UserWarning: Skipping loading of weights for layer conv2d_67 due to mismatch in shape ((1, 1, 512, 30) vs (255, 512, 1, 1)).\n",
      "  weight_values[i].shape))\n",
      "C:\\Program Files\\Anaconda3\\lib\\site-packages\\keras\\engine\\saving.py:1140: UserWarning: Skipping loading of weights for layer conv2d_67 due to mismatch in shape ((30,) vs (255,)).\n",
      "  weight_values[i].shape))\n",
      "C:\\Program Files\\Anaconda3\\lib\\site-packages\\keras\\engine\\saving.py:1140: UserWarning: Skipping loading of weights for layer conv2d_75 due to mismatch in shape ((1, 1, 256, 30) vs (255, 256, 1, 1)).\n",
      "  weight_values[i].shape))\n",
      "C:\\Program Files\\Anaconda3\\lib\\site-packages\\keras\\engine\\saving.py:1140: UserWarning: Skipping loading of weights for layer conv2d_75 due to mismatch in shape ((30,) vs (255,)).\n",
      "  weight_values[i].shape))\n"
     ]
    }
   ],
   "source": [
    "input_shape = (416,416,3)\n",
    "with tf.device('/cpu:0'):\n",
    "    yolo = YOLO_V3(input_shape,config.num_classes)\n",
    "    yolo_body,model = yolo.create_yolo()\n",
    "\n",
    "yolo_body.load_weights(r'E:\\yolov3\\model_data\\yolo_416.h5', by_name=True,skip_mismatch=True)\n",
    "for i in range(len(yolo_body.layers)-3):  \n",
    "    yolo_body.layers[i].train_able = False"
   ]
  },
  {
   "cell_type": "code",
   "execution_count": 6,
   "metadata": {
    "collapsed": true
   },
   "outputs": [],
   "source": [
    "from keras.optimizers import Adam"
   ]
  },
  {
   "cell_type": "markdown",
   "metadata": {},
   "source": [
    "## create generator"
   ]
  },
  {
   "cell_type": "code",
   "execution_count": 7,
   "metadata": {
    "collapsed": true
   },
   "outputs": [],
   "source": [
    "from model.generator import Generator\n",
    "from keras.callbacks import TensorBoard"
   ]
  },
  {
   "cell_type": "code",
   "execution_count": 8,
   "metadata": {
    "collapsed": true
   },
   "outputs": [],
   "source": [
    "tensorboard = TensorBoard(r'E:\\yolov3\\tf')"
   ]
  },
  {
   "cell_type": "code",
   "execution_count": null,
   "metadata": {
    "collapsed": true
   },
   "outputs": [],
   "source": []
  },
  {
   "cell_type": "code",
   "execution_count": 9,
   "metadata": {
    "collapsed": false
   },
   "outputs": [
    {
     "name": "stdout",
     "output_type": "stream",
     "text": [
      "feats_shape: (None, None, None, 3, 10) y_true_shape: (None, None, None, 3, 14)\n",
      "gt_t_xy_shape: (None, None, None, 3, 2) pred_t_wh_shape: (None, None, None, 3, 2)\n",
      "gt_box_shape: (None, None, None, 3, 4) pred_box_shape: (None, None, None, 3, 1, 4) object_mask_shape: (None, None, None, 3, 1)\n",
      "s_iou: (None, None, 3, None) s_best_iou (None, None, 3) s_gt_box_shape (None, 4)\n",
      "ignore_mask_shape: (None, None, None, 3, 1) object_mask_shape (None, None, None, 3, 1)\n",
      "loss_xy_shape: (None, None, None, 3, 2)\n",
      "feats_shape: (None, None, None, 3, 10) y_true_shape: (None, None, None, 3, 14)\n",
      "gt_t_xy_shape: (None, None, None, 3, 2) pred_t_wh_shape: (None, None, None, 3, 2)\n",
      "gt_box_shape: (None, None, None, 3, 4) pred_box_shape: (None, None, None, 3, 1, 4) object_mask_shape: (None, None, None, 3, 1)\n",
      "s_iou: (None, None, 3, None) s_best_iou (None, None, 3) s_gt_box_shape (None, 4)\n",
      "ignore_mask_shape: (None, None, None, 3, 1) object_mask_shape (None, None, None, 3, 1)\n",
      "loss_xy_shape: (None, None, None, 3, 2)\n",
      "feats_shape: (None, None, None, 3, 10) y_true_shape: (None, None, None, 3, 14)\n",
      "gt_t_xy_shape: (None, None, None, 3, 2) pred_t_wh_shape: (None, None, None, 3, 2)\n",
      "gt_box_shape: (None, None, None, 3, 4) pred_box_shape: (None, None, None, 3, 1, 4) object_mask_shape: (None, None, None, 3, 1)\n",
      "s_iou: (None, None, 3, None) s_best_iou (None, None, 3) s_gt_box_shape (None, 4)\n",
      "ignore_mask_shape: (None, None, None, 3, 1) object_mask_shape (None, None, None, 3, 1)\n",
      "loss_xy_shape: (None, None, None, 3, 2)\n",
      "feats_shape: (None, None, None, 3, 10) y_true_shape: (None, None, None, 3, 14)\n",
      "gt_t_xy_shape: (None, None, None, 3, 2) pred_t_wh_shape: (None, None, None, 3, 2)\n",
      "gt_box_shape: (None, None, None, 3, 4) pred_box_shape: (None, None, None, 3, 1, 4) object_mask_shape: (None, None, None, 3, 1)\n",
      "s_iou: (None, None, 3, None) s_best_iou (None, None, 3) s_gt_box_shape (None, 4)\n",
      "ignore_mask_shape: (None, None, None, 3, 1) object_mask_shape (None, None, None, 3, 1)\n",
      "loss_xy_shape: (None, None, None, 3, 2)\n",
      "feats_shape: (None, None, None, 3, 10) y_true_shape: (None, None, None, 3, 14)\n",
      "gt_t_xy_shape: (None, None, None, 3, 2) pred_t_wh_shape: (None, None, None, 3, 2)\n",
      "gt_box_shape: (None, None, None, 3, 4) pred_box_shape: (None, None, None, 3, 1, 4) object_mask_shape: (None, None, None, 3, 1)\n",
      "s_iou: (None, None, 3, None) s_best_iou (None, None, 3) s_gt_box_shape (None, 4)\n",
      "ignore_mask_shape: (None, None, None, 3, 1) object_mask_shape (None, None, None, 3, 1)\n",
      "loss_xy_shape: (None, None, None, 3, 2)\n",
      "feats_shape: (None, None, None, 3, 10) y_true_shape: (None, None, None, 3, 14)\n",
      "gt_t_xy_shape: (None, None, None, 3, 2) pred_t_wh_shape: (None, None, None, 3, 2)\n",
      "gt_box_shape: (None, None, None, 3, 4) pred_box_shape: (None, None, None, 3, 1, 4) object_mask_shape: (None, None, None, 3, 1)\n",
      "s_iou: (None, None, 3, None) s_best_iou (None, None, 3) s_gt_box_shape (None, 4)\n",
      "ignore_mask_shape: (None, None, None, 3, 1) object_mask_shape (None, None, None, 3, 1)\n",
      "loss_xy_shape: (None, None, None, 3, 2)\n"
     ]
    }
   ],
   "source": [
    "from keras.utils import multi_gpu_model\n",
    "parallel_model = multi_gpu_model(model)\n",
    "# complie\n",
    "parallel_model.compile(optimizer=Adam(lr=1e-3), loss={\n",
    "        # use custom yolo_loss Lambda layer.\n",
    "        'yolo_loss': lambda y_true, y_pred: K.mean(y_pred)})"
   ]
  },
  {
   "cell_type": "code",
   "execution_count": 10,
   "metadata": {
    "collapsed": true
   },
   "outputs": [],
   "source": [
    "batch_size = 24\n",
    "gen = Generator(r'C:\\dataset\\jinnan2_round1_train_20190305\\jinnan2_round1_train_20190305\\restricted\\train.txt',\n",
    "                batch_size = batch_size,\n",
    "                num_classes = config.num_classes,\n",
    "                shape  = (416,416))"
   ]
  },
  {
   "cell_type": "code",
   "execution_count": 11,
   "metadata": {
    "collapsed": false,
    "scrolled": true
   },
   "outputs": [
    {
     "name": "stdout",
     "output_type": "stream",
     "text": [
      "Epoch 1/50\n",
      "40/40 [==============================] - 91s 2s/step - loss: 1545.8880\n",
      "Epoch 2/50\n",
      "40/40 [==============================] - 36s 910ms/step - loss: 127.5148\n",
      "Epoch 3/50\n",
      "40/40 [==============================] - 36s 906ms/step - loss: 98.4096\n",
      "Epoch 4/50\n",
      "40/40 [==============================] - 36s 909ms/step - loss: 86.0409\n",
      "Epoch 5/50\n",
      "40/40 [==============================] - 37s 914ms/step - loss: 75.6752\n",
      "Epoch 6/50\n",
      "40/40 [==============================] - 37s 914ms/step - loss: 67.7612\n",
      "Epoch 7/50\n",
      "40/40 [==============================] - 36s 905ms/step - loss: 59.7873\n",
      "Epoch 8/50\n",
      "40/40 [==============================] - 36s 911ms/step - loss: 56.2130\n",
      "Epoch 9/50\n",
      "40/40 [==============================] - 37s 913ms/step - loss: 50.9538\n",
      "Epoch 10/50\n",
      "40/40 [==============================] - 36s 909ms/step - loss: 47.7551\n",
      "Epoch 11/50\n",
      "40/40 [==============================] - 37s 916ms/step - loss: 44.1932\n",
      "Epoch 12/50\n",
      "40/40 [==============================] - 36s 911ms/step - loss: 41.2533\n",
      "Epoch 13/50\n",
      "40/40 [==============================] - 36s 908ms/step - loss: 39.0196\n",
      "Epoch 14/50\n",
      "40/40 [==============================] - 36s 899ms/step - loss: 37.2060\n",
      "Epoch 15/50\n",
      "40/40 [==============================] - 36s 909ms/step - loss: 35.4172\n",
      "Epoch 16/50\n",
      "40/40 [==============================] - 36s 908ms/step - loss: 34.2037\n",
      "Epoch 17/50\n",
      "40/40 [==============================] - 36s 902ms/step - loss: 32.2531\n",
      "Epoch 18/50\n",
      "40/40 [==============================] - 36s 901ms/step - loss: 30.9816\n",
      "Epoch 19/50\n",
      "40/40 [==============================] - 36s 908ms/step - loss: 29.7159\n",
      "Epoch 20/50\n",
      "40/40 [==============================] - 36s 908ms/step - loss: 28.7803\n",
      "Epoch 21/50\n",
      "40/40 [==============================] - 36s 902ms/step - loss: 28.0786\n",
      "Epoch 22/50\n",
      "40/40 [==============================] - 36s 907ms/step - loss: 27.6252\n",
      "Epoch 23/50\n",
      "40/40 [==============================] - 36s 907ms/step - loss: 26.6403\n",
      "Epoch 24/50\n",
      "40/40 [==============================] - 36s 904ms/step - loss: 24.8805\n",
      "Epoch 25/50\n",
      "40/40 [==============================] - 36s 905ms/step - loss: 25.0960\n",
      "Epoch 26/50\n",
      "40/40 [==============================] - 36s 907ms/step - loss: 24.0506\n",
      "Epoch 27/50\n",
      "40/40 [==============================] - 36s 908ms/step - loss: 23.4270\n",
      "Epoch 28/50\n",
      "40/40 [==============================] - 36s 901ms/step - loss: 23.0242\n",
      "Epoch 29/50\n",
      "40/40 [==============================] - 36s 910ms/step - loss: 21.6975\n",
      "Epoch 30/50\n",
      "40/40 [==============================] - 36s 908ms/step - loss: 21.6432\n",
      "Epoch 31/50\n",
      "40/40 [==============================] - 36s 906ms/step - loss: 21.3989\n",
      "Epoch 32/50\n",
      "40/40 [==============================] - 37s 917ms/step - loss: 20.6689\n",
      "Epoch 33/50\n",
      "40/40 [==============================] - 37s 913ms/step - loss: 20.4781\n",
      "Epoch 34/50\n",
      "40/40 [==============================] - 37s 913ms/step - loss: 19.7968\n",
      "Epoch 35/50\n",
      "40/40 [==============================] - 36s 904ms/step - loss: 19.4888\n",
      "Epoch 36/50\n",
      "40/40 [==============================] - 36s 903ms/step - loss: 19.6060\n",
      "Epoch 37/50\n",
      "40/40 [==============================] - 37s 914ms/step - loss: 19.1937\n",
      "Epoch 38/50\n",
      "40/40 [==============================] - 36s 911ms/step - loss: 18.8027\n",
      "Epoch 39/50\n",
      "40/40 [==============================] - 36s 909ms/step - loss: 18.1820\n",
      "Epoch 40/50\n",
      "40/40 [==============================] - 36s 908ms/step - loss: 18.6920\n",
      "Epoch 41/50\n",
      "40/40 [==============================] - 36s 910ms/step - loss: 17.9231\n",
      "Epoch 42/50\n",
      "40/40 [==============================] - 37s 914ms/step - loss: 17.9478\n",
      "Epoch 43/50\n",
      "40/40 [==============================] - 36s 907ms/step - loss: 17.7736\n",
      "Epoch 44/50\n",
      "40/40 [==============================] - 36s 910ms/step - loss: 17.7091\n",
      "Epoch 45/50\n",
      "40/40 [==============================] - 36s 912ms/step - loss: 17.6436\n",
      "Epoch 46/50\n",
      "40/40 [==============================] - 37s 916ms/step - loss: 17.2646\n",
      "Epoch 47/50\n",
      "40/40 [==============================] - 37s 913ms/step - loss: 17.5514\n",
      "Epoch 48/50\n",
      "40/40 [==============================] - 36s 909ms/step - loss: 17.8798\n",
      "Epoch 49/50\n",
      "40/40 [==============================] - 36s 905ms/step - loss: 17.4834\n",
      "Epoch 50/50\n",
      "40/40 [==============================] - 37s 918ms/step - loss: 17.5159\n"
     ]
    }
   ],
   "source": [
    "model.load_weights(r'stage1.hdf5')\n",
    "res = parallel_model.fit_generator(gen,\n",
    "                          steps_per_epoch =gen.num_samples()// batch_size,\n",
    "                          epochs = 50,\n",
    "                          max_queue_size=128,\n",
    "                          workers=4,\n",
    "                          verbose=1)"
   ]
  },
  {
   "cell_type": "code",
   "execution_count": 12,
   "metadata": {
    "collapsed": true
   },
   "outputs": [],
   "source": [
    "model.save_weights(r'stage1.hdf5')"
   ]
  },
  {
   "cell_type": "code",
   "execution_count": null,
   "metadata": {
    "collapsed": false
   },
   "outputs": [],
   "source": [
    "n = [print(n.name) for n in tf.get_default_graph().as_graph_def().node]"
   ]
  },
  {
   "cell_type": "code",
   "execution_count": null,
   "metadata": {
    "collapsed": true
   },
   "outputs": [],
   "source": []
  }
 ],
 "metadata": {
  "anaconda-cloud": {},
  "kernelspec": {
   "display_name": "Python [conda root]",
   "language": "python",
   "name": "conda-root-py"
  },
  "language_info": {
   "codemirror_mode": {
    "name": "ipython",
    "version": 3
   },
   "file_extension": ".py",
   "mimetype": "text/x-python",
   "name": "python",
   "nbconvert_exporter": "python",
   "pygments_lexer": "ipython3",
   "version": "3.5.2"
  }
 },
 "nbformat": 4,
 "nbformat_minor": 1
}
